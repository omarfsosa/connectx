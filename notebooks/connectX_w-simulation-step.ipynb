{
 "cells": [
  {
   "cell_type": "markdown",
   "id": "f60cfe67",
   "metadata": {},
   "source": [
    "# Monte Carlo Tree search"
   ]
  },
  {
   "cell_type": "markdown",
   "id": "622f9938",
   "metadata": {},
   "source": [
    "The four steps of a monte carlo tree search algorithm:\n",
    "    \n",
    "#### 1) Select\n",
    "At each depth of the tree from the root node, select the node that has the highest Upper Confidence Bound (UCB) score and continue that trajectory selected down the tree until a leaf is reached.\n",
    "   \n",
    "#### 2) Expand\n",
    "From the leaf chosen by maximising the UCB at every level, expand the leaf node by one time step, calculating all possible children nodes and their prior probabilities.\n",
    "\n",
    "*example: in Connect-X, the prior for the children is chosen as uniformly distributed across all possible next moves == 1/N with N=number of possible moves*\n",
    "\n",
    "#### 3) Simulate\n",
    "For each children node, simulate all future actions (and environment reactions) by using a RANDOM decision policy, until:\n",
    " - end of game/problem is reached if game/problem HAS a FINITE END \n",
    " - D time steps are taken in the future, where D is a GLOBAL parameter chosen by the user of the model which represent the RANGE in the future over which we want to optimise our Long Range Reward *(i.e. the truncated end of the summation of rewards in the future)*.\n",
    " \n",
    "#### 4) Backpropagate\n",
    "For each of the trajectories obtained until D (or until end of game) from each of the children nodes, backpropagate (update) the samples of the node transversed all the way back to the root node, recalculating UCB scores.\n",
    "\n",
    "Once samples (and UCB scores from samples) are updated for all relevant nodes, repeat whole loop from step 1 for as many simulations as we want. "
   ]
  },
  {
   "cell_type": "markdown",
   "id": "ccb847c4-cca5-4222-b99b-e230ae1e6cdd",
   "metadata": {},
   "source": [
    "# Connect X"
   ]
  },
  {
   "cell_type": "code",
   "execution_count": 1,
   "id": "f3191836-cdb2-462a-84f2-a8309d226587",
   "metadata": {},
   "outputs": [],
   "source": [
    "import copy\n",
    "import itertools\n",
    "import math\n",
    "import random\n",
    "import time"
   ]
  },
  {
   "cell_type": "code",
   "execution_count": 2,
   "id": "a19a841d",
   "metadata": {},
   "outputs": [],
   "source": [
    "import numpy as np"
   ]
  },
  {
   "cell_type": "code",
   "execution_count": 3,
   "id": "51761a45-9928-4306-8c95-340156a8719e",
   "metadata": {},
   "outputs": [],
   "source": [
    "# --- globals\n",
    "NUM_COLS = 4\n",
    "NUM_ROWS = 1\n",
    "CONNECTX = 2\n",
    "EMPTY = 0"
   ]
  },
  {
   "cell_type": "code",
   "execution_count": 4,
   "id": "2805f0a7-d293-495a-a59e-78b0bdc1872e",
   "metadata": {},
   "outputs": [],
   "source": [
    "def window(seq, n=CONNECTX):\n",
    "    \"Returns a sliding window (of width n) over data from the iterable\"\n",
    "    \"   s -> (s0,s1,...s[n-1]), (s1,s2,...,sn), ...                   \"\n",
    "    it = iter(seq)\n",
    "    result = tuple(itertools.islice(it, n))\n",
    "    if len(result) == n:\n",
    "        yield result\n",
    "    for elem in it:\n",
    "        result = result[1:] + (elem,)\n",
    "        yield result"
   ]
  },
  {
   "cell_type": "code",
   "execution_count": 5,
   "id": "f87df337",
   "metadata": {},
   "outputs": [],
   "source": [
    "# # test window function\n",
    "# tmp = [1,2,3,4,5,6]\n",
    "# list(window(tmp, n=3))"
   ]
  },
  {
   "cell_type": "code",
   "execution_count": 6,
   "id": "819c632e-3fd3-42e3-8e8b-13b32808d2ea",
   "metadata": {},
   "outputs": [],
   "source": [
    "def all_equal(iterator):\n",
    "    iterator = iter(iterator)\n",
    "    try:\n",
    "        first = next(iterator)\n",
    "    except StopIteration:\n",
    "        return True\n",
    "    return all(first == x for x in iterator)\n",
    "\n",
    "def all_full(iterator):\n",
    "    return EMPTY not in iterator"
   ]
  },
  {
   "cell_type": "markdown",
   "id": "c9c6458a",
   "metadata": {},
   "source": [
    "##### Test functions "
   ]
  },
  {
   "cell_type": "code",
   "execution_count": 7,
   "id": "4ade62a1",
   "metadata": {},
   "outputs": [],
   "source": [
    "# all_equal(window(tmp))"
   ]
  },
  {
   "cell_type": "code",
   "execution_count": 8,
   "id": "4f4b895d",
   "metadata": {},
   "outputs": [],
   "source": [
    "# # test all_equal: it is to check when X elements (for one window) are equal == to win the game\n",
    "# tmp2 = [0,1,1,0]\n",
    "# print(list(window(tmp2)))\n",
    "# print(all_equal(list(window(tmp2))[1]))\n",
    "# print(all_equal(window(tmp2)))"
   ]
  },
  {
   "cell_type": "markdown",
   "id": "244ef115",
   "metadata": {},
   "source": [
    "## Game class"
   ]
  },
  {
   "cell_type": "code",
   "execution_count": 9,
   "id": "e147ac78-ae9c-4668-ba76-7aea2d31dd4a",
   "metadata": {},
   "outputs": [],
   "source": [
    "class Game:\n",
    "    def __init__(self, num_cols=NUM_COLS, num_rows=NUM_ROWS, num_connect=CONNECTX):\n",
    "        self.num_cols = num_cols\n",
    "        self.num_rows = num_rows\n",
    "        self.num_connect = num_connect\n",
    "        cols = [EMPTY,] * num_cols\n",
    "        self.board = [list(cols) for _ in range(num_rows)]\n",
    "        self._heights = [0,] * num_cols\n",
    "        self.PIECES = {\"X\": \"O\", \"O\": \"X\"} # current player: next player\n",
    "        \n",
    "        self.last_played = None\n",
    "    \n",
    "    @property\n",
    "    def heights(self):\n",
    "        return self._heights\n",
    "    \n",
    "    def place(self, piece, col):\n",
    "        \n",
    "        error_msg = f\"Only allowed players are :{list(self.PIECES.keys())}\\n\"\n",
    "        assert piece in self.PIECES, error_msg\n",
    "        \n",
    "        if self.last_played is not None:\n",
    "            error_msg = (\n",
    "                f\"Next player need to be :{self.PIECES[self.last_played]}\\n\"\n",
    "                f\"Passed instead:{piece}\\n\"\n",
    "            )\n",
    "            assert piece == self.PIECES[self.last_played], error_msg            \n",
    "        \n",
    "        row = self.heights[col] # latest empty height\n",
    "        self.board[row][col] = piece # fill the latest height with piece\n",
    "        self._heights[col] += 1  # update the height\n",
    "        \n",
    "        self.last_played = piece\n",
    "    \n",
    "    def is_win(self):\n",
    "        board = list(self.board)\n",
    "        x = self.num_connect\n",
    "        if self.is_horizontal_win(board, x) or self.is_diagonal_win(board, x):\n",
    "            return True\n",
    "        else:\n",
    "            board = self.rotate(board)\n",
    "        \n",
    "        return (\n",
    "            self.is_horizontal_win(board, x)\n",
    "            or self.is_diagonal_win(board, x)\n",
    "        )\n",
    "    \n",
    "    def get_valid_moves(self):\n",
    "        upper_row = list(next(reversed(self.board)))\n",
    "        return [n for n, val in enumerate(upper_row) if val == EMPTY]\n",
    "    \n",
    "    @staticmethod\n",
    "    def rotate(board):\n",
    "        \"\"\"\n",
    "        Rotate the board anti-clockwise\n",
    "        \"\"\"\n",
    "        return [list(row) for row in zip(*board)][::-1]\n",
    "    \n",
    "    @staticmethod\n",
    "    def is_horizontal_win(board, num_connect):\n",
    "        for row in reversed(board):\n",
    "            for quad in window(row, n=num_connect):\n",
    "                # we are looping via a window that is size of Connect (not of board)\n",
    "                # all_full checks that the windows has items in it\n",
    "                if all_full(quad) and all_equal(quad):\n",
    "                    return True\n",
    "\n",
    "        return False\n",
    "    \n",
    "    @staticmethod\n",
    "    def is_diagonal_win(board, num_connect):\n",
    "        num_rows = len(board)\n",
    "        num_cols = len(board[0])\n",
    "        for row in range(num_rows + 1 - num_connect):\n",
    "            for col in range(num_cols + 1 - num_connect):\n",
    "                diag = [\n",
    "                    board[row + i][col + i]\n",
    "                    for i in range(num_connect)\n",
    "                ]\n",
    "                if all_full(diag) and all_equal(diag):\n",
    "                    return True\n",
    "\n",
    "        return False\n",
    "\n",
    "    def is_terminal(self):\n",
    "        is_win = self.is_win()\n",
    "        is_full = not self.get_valid_moves()\n",
    "        return is_win or is_full\n",
    "    \n",
    "    def get_reward(self):\n",
    "        \"\"\"\n",
    "        Reward is:\n",
    "        -1: If lose\n",
    "         0: If draw or if game is not done.\n",
    "        \"\"\"\n",
    "        # I will only know if I lose, because I ask is_win after opponents has done his move\n",
    "        # and BEFORE I move. If I win, opponent will ask is_win and realises he lost (-1)\n",
    "\n",
    "        is_win = self.is_win()\n",
    "        if is_win:\n",
    "            return -1\n",
    "        return 0\n",
    "    \n",
    "    def __repr__(self):\n",
    "        lines = []\n",
    "        for row in reversed(self.board):\n",
    "            line = [f\"{'' if val == EMPTY else val:^3}\" for val in row]\n",
    "            line = \"|\" + \"|\".join(line) + \"|\"\n",
    "            div = itertools.islice(itertools.cycle(\"+---\"), len(line))\n",
    "            lines.append(\"\".join(div))\n",
    "            lines.append(line)\n",
    "\n",
    "        div = itertools.islice(itertools.cycle(\"+---\"), len(line))\n",
    "        lines.append(\"\".join(div))\n",
    "        \n",
    "        return \"\\n\".join(lines)"
   ]
  },
  {
   "cell_type": "markdown",
   "id": "51c212db",
   "metadata": {},
   "source": [
    "##### Test game class"
   ]
  },
  {
   "cell_type": "code",
   "execution_count": 10,
   "id": "5a8c00b2",
   "metadata": {},
   "outputs": [
    {
     "name": "stdout",
     "output_type": "stream",
     "text": [
      "valid moves: 3\n",
      "random move: 2\n",
      "next_player:\"O\"\n",
      "\n",
      "valid moves: 2\n",
      "random move: 3\n",
      "next_player:\"X\"\n",
      "\n",
      "valid moves: 1\n",
      "random move: 0\n",
      "next_player:\"O\"\n",
      "\n"
     ]
    },
    {
     "data": {
      "text/plain": [
       "+---+---+---+---+\n",
       "| O | X | O | X |\n",
       "+---+---+---+---+"
      ]
     },
     "execution_count": 10,
     "metadata": {},
     "output_type": "execute_result"
    }
   ],
   "source": [
    "simulated_game = Game(num_rows=1)\n",
    "simulated_game.place(\"X\", 1)\n",
    "# display(simulated_game)\n",
    "# print()\n",
    "\n",
    "for _ in range(3):\n",
    "\n",
    "    valid_moves = simulated_game.get_valid_moves()\n",
    "    num_moves = len(valid_moves)\n",
    "    print('valid moves:', num_moves)\n",
    "\n",
    "    random_move = random.choice(valid_moves)\n",
    "    print('random move:', random_move)\n",
    "\n",
    "    next_player = simulated_game.PIECES[simulated_game.last_played]\n",
    "    print(f'next_player:\"{next_player}\"')\n",
    "    print()\n",
    "    simulated_game.place(next_player, random_move) \n",
    "simulated_game\n"
   ]
  },
  {
   "cell_type": "code",
   "execution_count": 14,
   "id": "86df4baf",
   "metadata": {},
   "outputs": [
    {
     "name": "stdout",
     "output_type": "stream",
     "text": [
      "False\n",
      "True\n"
     ]
    }
   ],
   "source": [
    "print(simulated_game.is_win())\n",
    "print(simulated_game.is_terminal())"
   ]
  },
  {
   "cell_type": "code",
   "execution_count": null,
   "id": "bb76df18",
   "metadata": {},
   "outputs": [],
   "source": []
  },
  {
   "cell_type": "code",
   "execution_count": 11,
   "id": "77b85a04",
   "metadata": {},
   "outputs": [],
   "source": [
    "# game_obj.place('X', 2)\n",
    "# print(game_obj)\n",
    "# print()\n",
    "# game_obj.place('O', 2)\n",
    "# print(game_obj)"
   ]
  },
  {
   "cell_type": "code",
   "execution_count": null,
   "id": "63976d5c",
   "metadata": {},
   "outputs": [],
   "source": [
    "# game_obj.is_horizontal_win(game_obj.board, num_connect=game_obj.num_connect)"
   ]
  },
  {
   "cell_type": "code",
   "execution_count": null,
   "id": "656d36c4",
   "metadata": {},
   "outputs": [],
   "source": [
    "# list(next(reversed(game_obj.board)))"
   ]
  },
  {
   "cell_type": "code",
   "execution_count": null,
   "id": "5167c34e",
   "metadata": {},
   "outputs": [],
   "source": [
    "# num_cols = 4\n",
    "# cols = [EMPTY,] * num_cols\n",
    "# cols"
   ]
  },
  {
   "cell_type": "code",
   "execution_count": null,
   "id": "5a567edf",
   "metadata": {},
   "outputs": [],
   "source": [
    "# num_rows=3\n",
    "# board = [list(cols) for _ in range(num_rows)]\n",
    "# board"
   ]
  },
  {
   "cell_type": "markdown",
   "id": "ff77cb4f-02c5-44a7-a92d-47191e1ea790",
   "metadata": {},
   "source": [
    "## Monte Carlo Tree Search"
   ]
  },
  {
   "cell_type": "code",
   "execution_count": 15,
   "id": "772cf543-e78e-4d4c-857a-1a1a548650ca",
   "metadata": {},
   "outputs": [],
   "source": [
    "from anytree import NodeMixin, RenderTree"
   ]
  },
  {
   "cell_type": "code",
   "execution_count": 16,
   "id": "83efa289-3e08-4cbf-82c8-e6174b009a6e",
   "metadata": {},
   "outputs": [],
   "source": [
    "def ucb_score(node):\n",
    "    \"\"\"\n",
    "    The score for an action that would transition between the parent and child.\n",
    "    \"\"\"\n",
    "    if node.is_root:\n",
    "        raise ValueError(\"Cannot compute UCB score for a root node.\")\n",
    "\n",
    "    ratio = math.sqrt(node.parent.visit_count) / (node.visit_count + 1)\n",
    "    prior_score = node.prior * ratio\n",
    "    return -node.value + prior_score\n"
   ]
  },
  {
   "cell_type": "code",
   "execution_count": null,
   "id": "92ccd997",
   "metadata": {},
   "outputs": [],
   "source": [
    "# obj = NodeMixin()"
   ]
  },
  {
   "cell_type": "code",
   "execution_count": null,
   "id": "ed6eb1e5",
   "metadata": {},
   "outputs": [],
   "source": [
    "# [x for x in dir(obj) if not x.startswith('_')]"
   ]
  },
  {
   "cell_type": "markdown",
   "id": "252eb693",
   "metadata": {},
   "source": [
    "'depth' is distance from 'root' node (eg above me) -- but these trees are upside down\n",
    "'height' is distance from 'me' to the end of the tree (the 'leaf' node) \n",
    "'siblings' is if you have node of same 'depth'"
   ]
  },
  {
   "cell_type": "code",
   "execution_count": 18,
   "id": "014bc897",
   "metadata": {},
   "outputs": [],
   "source": [
    "# sum([])"
   ]
  },
  {
   "cell_type": "code",
   "execution_count": 112,
   "id": "bd9976a1-9fdd-4cf2-bb1f-b2ad84bc0843",
   "metadata": {},
   "outputs": [],
   "source": [
    "class Node(NodeMixin):\n",
    "    DISCOUNT_FACTOR = 0.8 # weight of future rewards relative to the present\n",
    "    \n",
    "    def __init__(self, game, to_play, prior=0, action=None):\n",
    "        super(Node, self).__init__()\n",
    "        self.game = game\n",
    "        \n",
    "#         error_msg = f\"Only allowed players are :{list(self.game.PIECES.keys())}\\n\"\n",
    "#         assert to_play in self.game.PIECES, error_msg\n",
    "                    \n",
    "        self.to_play = to_play\n",
    "        self.prior = prior # how much probability there is to reach this node from its parent\n",
    "        self.action = action # what is the action that brought me to this node\n",
    "        \n",
    "        # instead of keeping track of samples, we simply keep track of sum of values and counts\n",
    "        # because we only care about the average\n",
    "        self.samples = []\n",
    "        self.visit_count = 0\n",
    "    \n",
    "    def get_next_board(self, move):\n",
    "        game = copy.deepcopy(self.game)\n",
    "        game.place(self.to_play, move)\n",
    "        return game\n",
    "    \n",
    "    \n",
    "    @property\n",
    "    def value(self):\n",
    "        \"\"\"\n",
    "        Estimate of the expected long term reward.\n",
    "        \"\"\"\n",
    "        # this is just the values of the sample across time steps (long term reward)\n",
    "        try:\n",
    "            return sum(self.samples) / self.visit_count\n",
    "        except ZeroDivisionError:\n",
    "            return 0\n",
    "\n",
    "    @property\n",
    "    def best_child(self):\n",
    "        # children with highest ucb_score, so the one that we go next for the simulation\n",
    "        return max(self.children, key=ucb_score, default=None)\n",
    "\n",
    "    def attach_child(self, node):\n",
    "        self.children = self.children + (node,)\n",
    "\n",
    "    def __repr__(self):\n",
    "        \"\"\"\n",
    "        Debugger pretty print node info\n",
    "        \"\"\"\n",
    "        prior = f\"{self.prior:.2g}\"\n",
    "        \n",
    "        try:\n",
    "            ucb_val = ucb_score(self)\n",
    "            ucb_val = f\"{ucb_val:.3g}\"\n",
    "        except ValueError:\n",
    "            ucb_val = None\n",
    "            \n",
    "        return (\n",
    "            f\"{self.game} - Prior: {prior}  \"\n",
    "            f\"Count: {self.visit_count}  Value(L): {self.value:.3g}  \"\n",
    "            f\" UCB: {ucb_val}  Next_player: '{self.to_play}'\"\n",
    "        )\n",
    "\n",
    "    \n",
    "    # --- Functions for MCTS:\n",
    "    def select(self):\n",
    "        node = self\n",
    "        while not node.is_leaf:\n",
    "            node = node.best_child\n",
    "\n",
    "        return node\n",
    "    \n",
    "    def expand(self):\n",
    "        if not self.is_leaf:\n",
    "            # already expanded\n",
    "            return\n",
    "        \n",
    "        if self.game.is_terminal():\n",
    "            # there are no more moves in the games, it has finished\n",
    "            # either because of no more spaces, or because of winning\n",
    "            return\n",
    "\n",
    "        valid_moves = self.game.get_valid_moves()\n",
    "        num_moves = len(valid_moves)\n",
    "        for move in valid_moves:\n",
    "            next_game = self.get_next_board(move) \n",
    "            next_player = self.game.PIECES[self.to_play] # switch the player\n",
    "            child = Node(game=next_game, to_play=next_player, prior=1/num_moves, action=move)\n",
    "            self.attach_child(child)\n",
    "        \n",
    "    def simulate(self, max_tree_depth=20):\n",
    "        \n",
    "        # max_tree_depth: future timestep summation end term for calculating long term reward\n",
    "\n",
    "        if not self.is_leaf:\n",
    "            # already expanded\n",
    "            raise ValueError(f\"How come this node:\\n{self}\\n has already been expanded?\")\n",
    "        \n",
    "        i = 0\n",
    "        current_depth = self.depth\n",
    "\n",
    "        simulated_game = copy.deepcopy(self.game)\n",
    "        \n",
    "        rewards = []\n",
    "        discounts = []\n",
    "        signs = []\n",
    "        while((i<=(max_tree_depth-current_depth)) and (not simulated_game.is_terminal())):\n",
    "\n",
    "            valid_moves = simulated_game.get_valid_moves()\n",
    "            num_moves = len(valid_moves)\n",
    "#             print('valid moves:', num_moves)\n",
    "            \n",
    "            random_move = random.choice(valid_moves)\n",
    "#             print('random move:', random_move)\n",
    "\n",
    "            next_player = simulated_game.PIECES[simulated_game.last_played]\n",
    "#             print(f'player:\"{next_player}\"')\n",
    "#             print()\n",
    "            simulated_game.place(next_player, random_move) \n",
    "            \n",
    "            rewards.append(simulated_game.get_reward())\n",
    "            discounts.append(self.DISCOUNT_FACTOR**i)\n",
    "            signs.append((-1)**i)\n",
    "#             display(simulated_game)\n",
    "            \n",
    "            i+=1\n",
    "#             print()\n",
    "#             print(i)\n",
    "\n",
    "        return rewards, discounts, signs\n",
    "        \n",
    "\n",
    "    def backpropagate(self, rewards:list, discounts:list, signs:list):\n",
    "                \n",
    "        gamma = self.DISCOUNT_FACTOR\n",
    "\n",
    "        for n, node in enumerate(self.iter_path_reverse()):\n",
    "            # it goes through the parent recursively back until root. \n",
    "            # the parent in MonteC trees are UNIQUE.\n",
    "            \n",
    "            immediate_reward = node.game.get_reward()\n",
    "            \n",
    "            rewards = [immediate_reward] + rewards\n",
    "            discounts = [1] + [x*gamma for x in discounts]\n",
    "            signs = [1] + [x*(-1) for x in signs]\n",
    "            \n",
    "            normalisation = sum(discounts)\n",
    "            \n",
    "            L = sum(r*d*s for r,d,s in zip(rewards,discounts,signs))/normalisation\n",
    "            node.samples.append(L)\n",
    "                        \n",
    "            node.visit_count += 1\n",
    "            \n",
    "        # WE HAVE A SINGLE TREE FOR BOTH PLAYERS!!!! hence we need to change signs alternatively\n",
    "        # one can never win at present (so reward!=1 because of gamma), but one can lose at present\n",
    "            \n",
    "    # --- for visuals:\n",
    "    def _render_str(self, maxlevel=None):\n",
    "        result = \"\"\n",
    "        for pre, _, node in RenderTree(self, maxlevel=maxlevel):\n",
    "            result += (f\"{pre!s}{node.game!r}\\n\")\n",
    "\n",
    "        return result\n",
    "\n",
    "    def render(self, maxlevel=None):\n",
    "        print(self._render_str())"
   ]
  },
  {
   "cell_type": "code",
   "execution_count": 53,
   "id": "9db6420e",
   "metadata": {},
   "outputs": [
    {
     "data": {
      "text/plain": [
       "+---+---+---+---+\n",
       "|   |   |   |   |\n",
       "+---+---+---+---+"
      ]
     },
     "execution_count": 53,
     "metadata": {},
     "output_type": "execute_result"
    }
   ],
   "source": [
    "one_game = Game()\n",
    "\n",
    "# one_game.board   # Numeric representation of board\n",
    "one_game   # Nice visual representation of board"
   ]
  },
  {
   "cell_type": "code",
   "execution_count": 54,
   "id": "2c3d9e65",
   "metadata": {},
   "outputs": [
    {
     "data": {
      "text/plain": [
       "+---+---+---+---+\n",
       "|   |   |   |   |\n",
       "+---+---+---+---+ - Prior: 0  Count: 0  Value(L): 0   UCB: None  Next_player: 'X'"
      ]
     },
     "execution_count": 54,
     "metadata": {},
     "output_type": "execute_result"
    }
   ],
   "source": [
    "root_node = Node(one_game, 'X')\n",
    "root_node"
   ]
  },
  {
   "cell_type": "code",
   "execution_count": 55,
   "id": "896f36f4",
   "metadata": {},
   "outputs": [
    {
     "data": {
      "text/plain": [
       "+---+---+---+---+\n",
       "|   |   |   |   |\n",
       "+---+---+---+---+ - Prior: 0  Count: 0  Value(L): 0   UCB: None  Next_player: 'X'"
      ]
     },
     "execution_count": 55,
     "metadata": {},
     "output_type": "execute_result"
    }
   ],
   "source": [
    "root_node.select()"
   ]
  },
  {
   "cell_type": "code",
   "execution_count": 56,
   "id": "f628d292",
   "metadata": {},
   "outputs": [],
   "source": [
    "root_node.expand()"
   ]
  },
  {
   "cell_type": "code",
   "execution_count": 57,
   "id": "de9a7f56",
   "metadata": {
    "scrolled": false
   },
   "outputs": [
    {
     "data": {
      "text/plain": [
       "(+---+---+---+---+\n",
       " | X |   |   |   |\n",
       " +---+---+---+---+ - Prior: 0.25  Count: 0  Value(L): 0   UCB: 0  Next_player: 'O',\n",
       " +---+---+---+---+\n",
       " |   | X |   |   |\n",
       " +---+---+---+---+ - Prior: 0.25  Count: 0  Value(L): 0   UCB: 0  Next_player: 'O',\n",
       " +---+---+---+---+\n",
       " |   |   | X |   |\n",
       " +---+---+---+---+ - Prior: 0.25  Count: 0  Value(L): 0   UCB: 0  Next_player: 'O',\n",
       " +---+---+---+---+\n",
       " |   |   |   | X |\n",
       " +---+---+---+---+ - Prior: 0.25  Count: 0  Value(L): 0   UCB: 0  Next_player: 'O')"
      ]
     },
     "execution_count": 57,
     "metadata": {},
     "output_type": "execute_result"
    }
   ],
   "source": [
    "root_node.children"
   ]
  },
  {
   "cell_type": "code",
   "execution_count": 58,
   "id": "a34b5de2",
   "metadata": {},
   "outputs": [],
   "source": [
    "node = root_node.children[0]"
   ]
  },
  {
   "cell_type": "code",
   "execution_count": 59,
   "id": "b9429bb8",
   "metadata": {},
   "outputs": [
    {
     "data": {
      "text/plain": [
       "+---+---+---+---+\n",
       "| X |   |   |   |\n",
       "+---+---+---+---+ - Prior: 0.25  Count: 0  Value(L): 0   UCB: 0  Next_player: 'O'"
      ]
     },
     "execution_count": 59,
     "metadata": {},
     "output_type": "execute_result"
    }
   ],
   "source": [
    "node"
   ]
  },
  {
   "cell_type": "code",
   "execution_count": 60,
   "id": "0a72deb6",
   "metadata": {},
   "outputs": [
    {
     "name": "stdout",
     "output_type": "stream",
     "text": [
      "valid moves: 3\n",
      "random move: 2\n",
      "player:\"O\"\n",
      "\n"
     ]
    },
    {
     "data": {
      "text/plain": [
       "+---+---+---+---+\n",
       "| X |   | O |   |\n",
       "+---+---+---+---+"
      ]
     },
     "metadata": {},
     "output_type": "display_data"
    },
    {
     "name": "stdout",
     "output_type": "stream",
     "text": [
      "\n",
      "1\n",
      "valid moves: 2\n",
      "random move: 1\n",
      "player:\"X\"\n",
      "\n"
     ]
    },
    {
     "data": {
      "text/plain": [
       "+---+---+---+---+\n",
       "| X | X | O |   |\n",
       "+---+---+---+---+"
      ]
     },
     "metadata": {},
     "output_type": "display_data"
    },
    {
     "name": "stdout",
     "output_type": "stream",
     "text": [
      "\n",
      "2\n"
     ]
    }
   ],
   "source": [
    "r, d, s = node.simulate()"
   ]
  },
  {
   "cell_type": "code",
   "execution_count": 61,
   "id": "56e4d5f5",
   "metadata": {},
   "outputs": [
    {
     "name": "stdout",
     "output_type": "stream",
     "text": [
      "[0, -1]\n",
      "[1.0, 0.8]\n",
      "[1, -1]\n"
     ]
    }
   ],
   "source": [
    "print(r)\n",
    "print(d)\n",
    "print(s)"
   ]
  },
  {
   "cell_type": "code",
   "execution_count": 62,
   "id": "639bbd13",
   "metadata": {},
   "outputs": [
    {
     "data": {
      "text/plain": [
       "+---+---+---+---+\n",
       "| X |   |   |   |\n",
       "+---+---+---+---+ - Prior: 0.25  Count: 0  Value(L): 0   UCB: 0  Next_player: 'O'"
      ]
     },
     "execution_count": 62,
     "metadata": {},
     "output_type": "execute_result"
    }
   ],
   "source": [
    "node"
   ]
  },
  {
   "cell_type": "code",
   "execution_count": 63,
   "id": "4d1efbc9",
   "metadata": {},
   "outputs": [],
   "source": [
    "node.backpropagate(rewards=r, discounts=d, signs=s)"
   ]
  },
  {
   "cell_type": "code",
   "execution_count": 64,
   "id": "6bdf405e",
   "metadata": {},
   "outputs": [
    {
     "data": {
      "text/plain": [
       "+---+---+---+---+\n",
       "| X |   |   |   |\n",
       "+---+---+---+---+ - Prior: 0.25  Count: 1  Value(L): -0.262   UCB: 0.387  Next_player: 'O'"
      ]
     },
     "execution_count": 64,
     "metadata": {},
     "output_type": "execute_result"
    }
   ],
   "source": [
    "node"
   ]
  },
  {
   "cell_type": "code",
   "execution_count": null,
   "id": "c88081d4",
   "metadata": {},
   "outputs": [],
   "source": []
  },
  {
   "cell_type": "code",
   "execution_count": 44,
   "id": "d16bcde9",
   "metadata": {},
   "outputs": [],
   "source": [
    "# root_node.children[0].game.is_win()"
   ]
  },
  {
   "cell_type": "code",
   "execution_count": 46,
   "id": "e84a0dcb",
   "metadata": {},
   "outputs": [],
   "source": [
    "# node.get_next_board(node.game.get_valid_moves()[0])"
   ]
  },
  {
   "cell_type": "code",
   "execution_count": 47,
   "id": "d873dfcd",
   "metadata": {},
   "outputs": [],
   "source": [
    "# list(node.iter_path_reverse())"
   ]
  },
  {
   "cell_type": "code",
   "execution_count": null,
   "id": "2c542469",
   "metadata": {},
   "outputs": [],
   "source": [
    "# type(node.get_next_board(node.game.get_valid_moves()[0]))"
   ]
  },
  {
   "cell_type": "code",
   "execution_count": null,
   "id": "cbb66f63",
   "metadata": {},
   "outputs": [],
   "source": [
    "# root_node.children[0].descendants"
   ]
  },
  {
   "cell_type": "code",
   "execution_count": null,
   "id": "480e3dac",
   "metadata": {},
   "outputs": [],
   "source": [
    "# root_node.descendants"
   ]
  },
  {
   "cell_type": "markdown",
   "id": "838c4408",
   "metadata": {},
   "source": [
    "### MonteCarlo tree search steps"
   ]
  },
  {
   "cell_type": "code",
   "execution_count": 82,
   "id": "18205079",
   "metadata": {},
   "outputs": [],
   "source": [
    "game = Game()"
   ]
  },
  {
   "cell_type": "code",
   "execution_count": 83,
   "id": "d87f0b42",
   "metadata": {},
   "outputs": [],
   "source": [
    "# game.place(\"X\", 2)"
   ]
  },
  {
   "cell_type": "code",
   "execution_count": 84,
   "id": "e2d348ff",
   "metadata": {},
   "outputs": [],
   "source": [
    "root_node = Node(game, 'O')"
   ]
  },
  {
   "cell_type": "code",
   "execution_count": 85,
   "id": "37bc830a",
   "metadata": {},
   "outputs": [],
   "source": [
    "for _ in range(1000):\n",
    "    node = root_node.select()\n",
    "    node.expand()\n",
    "    if node.is_leaf:\n",
    "        node.backpropagate([], [], [])\n",
    "    else:\n",
    "        for child in node.children:\n",
    "            r, d, s = child.simulate()\n",
    "            child.backpropagate(rewards=r, discounts=d, signs=s)"
   ]
  },
  {
   "cell_type": "markdown",
   "id": "166ea9df",
   "metadata": {},
   "source": [
    "what my mind thinks: what is the value of making this move as player x\n",
    "\n",
    "what it is instead: the value of having x in that position as player 'o'"
   ]
  },
  {
   "cell_type": "code",
   "execution_count": 86,
   "id": "a61bf863",
   "metadata": {},
   "outputs": [
    {
     "data": {
      "text/plain": [
       "+---+---+---+---+\n",
       "|   |   | X |   |\n",
       "+---+---+---+---+ - Prior: 0  Count: 1005  Value(L): -0.258   UCB: None  Next_player: 'O'"
      ]
     },
     "execution_count": 86,
     "metadata": {},
     "output_type": "execute_result"
    }
   ],
   "source": [
    "root_node"
   ]
  },
  {
   "cell_type": "code",
   "execution_count": 79,
   "id": "ab6d2021",
   "metadata": {},
   "outputs": [],
   "source": [
    "# root_node.samples"
   ]
  },
  {
   "cell_type": "code",
   "execution_count": null,
   "id": "5e941fee",
   "metadata": {},
   "outputs": [],
   "source": [
    "After the simulation has finished, what determines which"
   ]
  },
  {
   "cell_type": "code",
   "execution_count": 87,
   "id": "152bf2ae",
   "metadata": {},
   "outputs": [
    {
     "data": {
      "text/plain": [
       "(+---+---+---+---+\n",
       " | O |   | X |   |\n",
       " +---+---+---+---+ - Prior: 0.33  Count: 267  Value(L): 0.444   UCB: -0.405  Next_player: 'X',\n",
       " +---+---+---+---+\n",
       " |   | O | X |   |\n",
       " +---+---+---+---+ - Prior: 0.33  Count: 369  Value(L): 0.434   UCB: -0.405  Next_player: 'X',\n",
       " +---+---+---+---+\n",
       " |   |   | X | O |\n",
       " +---+---+---+---+ - Prior: 0.33  Count: 369  Value(L): 0.434   UCB: -0.405  Next_player: 'X')"
      ]
     },
     "execution_count": 87,
     "metadata": {},
     "output_type": "execute_result"
    }
   ],
   "source": [
    "root_node.children"
   ]
  },
  {
   "cell_type": "code",
   "execution_count": 71,
   "id": "ff88c12f",
   "metadata": {},
   "outputs": [
    {
     "data": {
      "text/plain": [
       "+---+---+---+---+\n",
       "|   | X |   |   |\n",
       "+---+---+---+---+ - Prior: 0.25  Count: 10  Value(L): -0.21   UCB: 0.326  Next_player: 'O'"
      ]
     },
     "execution_count": 71,
     "metadata": {},
     "output_type": "execute_result"
    }
   ],
   "source": [
    "# root_node.children[1]"
   ]
  },
  {
   "cell_type": "code",
   "execution_count": 69,
   "id": "7e2be9db",
   "metadata": {},
   "outputs": [
    {
     "data": {
      "text/plain": [
       "(+---+---+---+---+\n",
       " | O | X |   |   |\n",
       " +---+---+---+---+ - Prior: 0.33  Count: 3  Value(L): 0.296   UCB: -0.0328  Next_player: 'X',\n",
       " +---+---+---+---+\n",
       " |   | X | O |   |\n",
       " +---+---+---+---+ - Prior: 0.33  Count: 3  Value(L): 0.296   UCB: -0.0328  Next_player: 'X',\n",
       " +---+---+---+---+\n",
       " |   | X |   | O |\n",
       " +---+---+---+---+ - Prior: 0.33  Count: 3  Value(L): 0.444   UCB: -0.181  Next_player: 'X')"
      ]
     },
     "execution_count": 69,
     "metadata": {},
     "output_type": "execute_result"
    }
   ],
   "source": [
    "# root_node.children[1].children"
   ]
  },
  {
   "cell_type": "code",
   "execution_count": null,
   "id": "7a705172",
   "metadata": {},
   "outputs": [],
   "source": [
    "# THE END OF THE TREE\n",
    "# root_node.leaves"
   ]
  },
  {
   "cell_type": "markdown",
   "id": "66a1f241",
   "metadata": {},
   "source": [
    "# PLAYING THE GAME \n"
   ]
  },
  {
   "cell_type": "code",
   "execution_count": 89,
   "id": "a9427cd1",
   "metadata": {},
   "outputs": [],
   "source": [
    "from IPython.display import clear_output"
   ]
  },
  {
   "cell_type": "code",
   "execution_count": 118,
   "id": "523c570e",
   "metadata": {},
   "outputs": [],
   "source": [
    "from abc import ABC, abstractmethod"
   ]
  },
  {
   "cell_type": "code",
   "execution_count": null,
   "id": "c971f0cb",
   "metadata": {},
   "outputs": [],
   "source": [
    "class GeneralAgent(ABC):\n",
    "\n",
    "    def __init__(self, piece, name=None):\n",
    "        self.piece = piece\n",
    "        if name is None:\n",
    "            self.name = f\"{self.__class__.name}-{piece}\"\n",
    "    \n",
    "    @abstractmethod\n",
    "    def choose_action(self, game):\n",
    "        action = random.choice(game.get_valid_moves())\n",
    "        return action"
   ]
  },
  {
   "cell_type": "code",
   "execution_count": 113,
   "id": "b3a2b7e1",
   "metadata": {},
   "outputs": [],
   "source": [
    "class RandomAgent:\n",
    "    # defines a player (==agent)\n",
    "    def __init__(self, piece):\n",
    "        self.piece = piece\n",
    "    \n",
    "    def choose_action(self, game):\n",
    "        action = random.choice(game.get_valid_moves())\n",
    "        return action\n",
    "\n",
    "class MCTSAgent:\n",
    "    # defines a player\n",
    "    def __init__(self, piece, num_simulations=1000, max_tree_depth=20):\n",
    "        self.piece = piece\n",
    "        self.num_simulations = num_simulations\n",
    "        self.max_tree_depth = max_tree_depth\n",
    "    \n",
    "    def choose_action(self, game):\n",
    "        \"\"\"\n",
    "        Runs MCTS\n",
    "        \"\"\"\n",
    "        root_node = Node(game, self.piece)\n",
    "        for _ in range(self.num_simulations):\n",
    "            node = root_node.select()\n",
    "            node.expand()\n",
    "            if node.is_leaf:\n",
    "                node.backpropagate([], [], [])\n",
    "            else:\n",
    "                for child in node.children:\n",
    "                    r, d, s = child.simulate(max_tree_depth=self.max_tree_depth)\n",
    "                    child.backpropagate(rewards=r, discounts=d, signs=s)\n",
    "\n",
    "        best = max(root_node.children, key=lambda x: x.visit_count)\n",
    "#         best = random.choices(root.children, weights=[x.visit_count for x in root.children])[0]\n",
    "        return best.action\n",
    "\n",
    "    \n",
    "class HumanAgent:\n",
    "    def __init__(self, piece):\n",
    "        self.piece = piece\n",
    "    \n",
    "    def choose_action(self, game):\n",
    "        return int(input(f\"Choose from {game.get_valid_moves()}:\"))"
   ]
  },
  {
   "cell_type": "code",
   "execution_count": 91,
   "id": "62a5c5d7",
   "metadata": {},
   "outputs": [
    {
     "data": {
      "text/plain": [
       "'a'"
      ]
     },
     "execution_count": 91,
     "metadata": {},
     "output_type": "execute_result"
    }
   ],
   "source": [
    "# tmp = {'a':3, 'b':3, 'c':2}\n",
    "# max(tmp, key=lambda x: tmp[x])"
   ]
  },
  {
   "cell_type": "markdown",
   "id": "a88d1ff7",
   "metadata": {},
   "source": [
    "###  MCTS vs random"
   ]
  },
  {
   "cell_type": "code",
   "execution_count": 95,
   "id": "c5ad4719",
   "metadata": {},
   "outputs": [],
   "source": [
    "import time"
   ]
  },
  {
   "cell_type": "code",
   "execution_count": null,
   "id": "62ee31a9",
   "metadata": {},
   "outputs": [],
   "source": []
  },
  {
   "cell_type": "code",
   "execution_count": 116,
   "id": "8e9d89d5",
   "metadata": {},
   "outputs": [
    {
     "name": "stdout",
     "output_type": "stream",
     "text": [
      "+---+---+---+---+---+---+---+\n",
      "|   |   |   |   |   |   |   |\n",
      "+---+---+---+---+---+---+---+\n",
      "|   |   |   |   |   |   |   |\n",
      "+---+---+---+---+---+---+---+\n",
      "|   |   |   |   |   |   |   |\n",
      "+---+---+---+---+---+---+---+\n",
      "|   |   |   |   |   |   |   |\n",
      "+---+---+---+---+---+---+---+\n",
      "|   |   |   | O |   |   |   |\n",
      "+---+---+---+---+---+---+---+\n",
      "| O | O | X | X | X | X |   |\n",
      "+---+---+---+---+---+---+---+\n",
      "Played: 5, by MCTSAgent\n",
      "Player MCTSAgent won!\n"
     ]
    }
   ],
   "source": [
    "# game = Game()  # only connect-2, with 4 columns and 1 row\n",
    "\n",
    "game = Game(num_cols=7, num_rows=6, num_connect=4)\n",
    "player1 = RandomAgent(\"O\")\n",
    "player2 = MCTSAgent(\"X\", num_simulations=100)\n",
    "turns_randomfirst = itertools.cycle([player1, player2]) # cycling the players\n",
    "turns_mctsfirst = itertools.cycle([player2, player1]) # cycling the players\n",
    "\n",
    "\n",
    "turns = turns_mctsfirst\n",
    "# turns = turns_randomfirst\n",
    "\n",
    "print(game)\n",
    "while True:\n",
    "    player = next(turns)\n",
    "    action = player.choose_action(game)\n",
    "    game.place(player.piece, action)\n",
    "    clear_output(wait=True)\n",
    "    print(game)\n",
    "    print(f\"Played: {action}, by {player.__class__.__name__}\")\n",
    "    if game.is_terminal():\n",
    "        if game.is_win():\n",
    "            print(f\"Player {player.__class__.__name__} won!\")\n",
    "        else:\n",
    "            print(\"Game finished with draw\")\n",
    "        break\n",
    "    time.sleep(1)"
   ]
  },
  {
   "cell_type": "code",
   "execution_count": null,
   "id": "ecbdeadc",
   "metadata": {},
   "outputs": [],
   "source": []
  },
  {
   "cell_type": "markdown",
   "id": "95021441",
   "metadata": {},
   "source": [
    "### MCTS vs HUMAN"
   ]
  },
  {
   "cell_type": "code",
   "execution_count": 115,
   "id": "395383e7",
   "metadata": {},
   "outputs": [
    {
     "name": "stdout",
     "output_type": "stream",
     "text": [
      "+---+---+---+---+---+---+---+\n",
      "| O | O |   | O |   | O | X |\n",
      "+---+---+---+---+---+---+---+\n",
      "| O | X |   | X |   | X | O |\n",
      "+---+---+---+---+---+---+---+\n",
      "| X | O | O | X |   | X | O |\n",
      "+---+---+---+---+---+---+---+\n",
      "| O | X | X | O |   | X | X |\n",
      "+---+---+---+---+---+---+---+\n",
      "| X | O | O | X | O | O | X |\n",
      "+---+---+---+---+---+---+---+\n",
      "| X | O | O | X | X | O | X |\n",
      "+---+---+---+---+---+---+---+\n",
      "Played: 2, by HumanAgent\n",
      "Player HumanAgent won!\n"
     ]
    }
   ],
   "source": [
    "game = Game(num_cols=7, num_rows=6, num_connect=4)\n",
    "player1 = HumanAgent(\"O\")\n",
    "player2 = MCTSAgent(\"X\", num_simulations=1000, max_tree_depth=42)\n",
    "turns_randomfirst = itertools.cycle([player1, player2]) # cycling the players\n",
    "turns_mctsfirst = itertools.cycle([player2, player1]) # cycling the players\n",
    "\n",
    "\n",
    "turns = turns_mctsfirst\n",
    "# turns = turns_randomfirst\n",
    "\n",
    "print(game)\n",
    "while True:\n",
    "    player = next(turns)\n",
    "    action = player.choose_action(game)\n",
    "    game.place(player.piece, action)\n",
    "    clear_output(wait=True)\n",
    "    print(game)\n",
    "    print(f\"Played: {action}, by {player.__class__.__name__}\")\n",
    "    if game.is_terminal():\n",
    "        if game.is_win():\n",
    "            print(f\"Player {player.__class__.__name__} won!\")\n",
    "        else:\n",
    "            print(\"Game finished with draw\")\n",
    "        break\n",
    "    time.sleep(1)"
   ]
  },
  {
   "cell_type": "code",
   "execution_count": null,
   "id": "ae686cb4",
   "metadata": {},
   "outputs": [],
   "source": []
  },
  {
   "cell_type": "code",
   "execution_count": 117,
   "id": "f6dae1c0",
   "metadata": {},
   "outputs": [
    {
     "name": "stdout",
     "output_type": "stream",
     "text": [
      "+---+---+---+---+---+---+---+\n",
      "|   |   | X |   |   |   |   |\n",
      "+---+---+---+---+---+---+---+\n",
      "|   |   | O | X |   | O |   |\n",
      "+---+---+---+---+---+---+---+\n",
      "| X |   | O | O |   | O |   |\n",
      "+---+---+---+---+---+---+---+\n",
      "| O |   | O | O |   | O |   |\n",
      "+---+---+---+---+---+---+---+\n",
      "| X | X | X | X |   | X |   |\n",
      "+---+---+---+---+---+---+---+\n",
      "| X | X | O | X |   | X | O |\n",
      "+---+---+---+---+---+---+---+\n",
      "Played: 1, by MCTSAgent\n",
      "Player MCTSAgent won!\n"
     ]
    }
   ],
   "source": [
    "game = Game(num_cols=7, num_rows=6, num_connect=4)\n",
    "player1 = MCTSAgent(\"O\", num_simulations=1000, max_tree_depth=20)\n",
    "player2 = MCTSAgent(\"X\", num_simulations=1000, max_tree_depth=42)\n",
    "turns_randomfirst = itertools.cycle([player1, player2]) # cycling the players\n",
    "turns_mctsfirst = itertools.cycle([player2, player1]) # cycling the players\n",
    "\n",
    "\n",
    "turns = turns_mctsfirst\n",
    "# turns = turns_randomfirst\n",
    "\n",
    "print(game)\n",
    "while True:\n",
    "    player = next(turns)\n",
    "    action = player.choose_action(game)\n",
    "    game.place(player.piece, action)\n",
    "    clear_output(wait=True)\n",
    "    print(game)\n",
    "    print(f\"Played: {action}, by {player.__class__.__name__}\")\n",
    "    if game.is_terminal():\n",
    "        if game.is_win():\n",
    "            print(f\"Player {player.__class__.__name__} won!\")\n",
    "        else:\n",
    "            print(\"Game finished with draw\")\n",
    "        break\n",
    "    time.sleep(1)"
   ]
  },
  {
   "cell_type": "code",
   "execution_count": null,
   "id": "a3979864",
   "metadata": {},
   "outputs": [],
   "source": []
  },
  {
   "cell_type": "code",
   "execution_count": null,
   "id": "3ad0a15b",
   "metadata": {},
   "outputs": [],
   "source": []
  },
  {
   "cell_type": "code",
   "execution_count": null,
   "id": "f689342e",
   "metadata": {},
   "outputs": [],
   "source": []
  },
  {
   "cell_type": "code",
   "execution_count": null,
   "id": "16bd8745",
   "metadata": {},
   "outputs": [],
   "source": []
  },
  {
   "cell_type": "code",
   "execution_count": null,
   "id": "d3dfab5d",
   "metadata": {},
   "outputs": [],
   "source": [
    "game = Game(7, 6, 4)\n",
    "player1 = HumanAgent(\"X\")\n",
    "player2 = MCTSAgent(\"O\", num_simulations=1000)\n",
    "turns = itertools.cycle([player1, player2])"
   ]
  },
  {
   "cell_type": "code",
   "execution_count": null,
   "id": "d1f7d94b",
   "metadata": {},
   "outputs": [],
   "source": [
    "\n",
    "\n",
    "print(game)\n",
    "while True:\n",
    "    player = next(turns)\n",
    "    action = player.choose_action(game)\n",
    "    game.place(player.piece, action)\n",
    "    clear_output(wait=True)\n",
    "    print(game)\n",
    "    print(f\"Played: {action}, by {player.__class__.__name__}\")\n",
    "    if game.is_win():\n",
    "        print(f\"Player {player.__class__.__name__} won!\")\n",
    "        break"
   ]
  },
  {
   "cell_type": "code",
   "execution_count": null,
   "id": "1c6aea03",
   "metadata": {},
   "outputs": [],
   "source": []
  },
  {
   "cell_type": "code",
   "execution_count": null,
   "id": "111df67f",
   "metadata": {},
   "outputs": [],
   "source": []
  },
  {
   "cell_type": "code",
   "execution_count": null,
   "id": "1b2ca0b2",
   "metadata": {},
   "outputs": [],
   "source": []
  },
  {
   "cell_type": "code",
   "execution_count": null,
   "id": "dfb3f725",
   "metadata": {},
   "outputs": [],
   "source": []
  },
  {
   "cell_type": "code",
   "execution_count": null,
   "id": "3ed6dcdb",
   "metadata": {},
   "outputs": [],
   "source": []
  },
  {
   "cell_type": "code",
   "execution_count": null,
   "id": "9b5efeea",
   "metadata": {},
   "outputs": [],
   "source": []
  },
  {
   "cell_type": "code",
   "execution_count": null,
   "id": "6f7432c7",
   "metadata": {},
   "outputs": [],
   "source": []
  },
  {
   "cell_type": "code",
   "execution_count": null,
   "id": "1d82e951",
   "metadata": {},
   "outputs": [],
   "source": []
  },
  {
   "cell_type": "code",
   "execution_count": null,
   "id": "712c34b3",
   "metadata": {},
   "outputs": [],
   "source": []
  },
  {
   "cell_type": "code",
   "execution_count": null,
   "id": "a62d58a7",
   "metadata": {},
   "outputs": [],
   "source": [
    "node = root_node.select()\n",
    "node"
   ]
  },
  {
   "cell_type": "code",
   "execution_count": null,
   "id": "2b30b556",
   "metadata": {},
   "outputs": [],
   "source": [
    "node.path"
   ]
  },
  {
   "cell_type": "code",
   "execution_count": null,
   "id": "438e7eaa",
   "metadata": {},
   "outputs": [],
   "source": [
    "node.expand()\n",
    "node.children"
   ]
  },
  {
   "cell_type": "code",
   "execution_count": null,
   "id": "d8658481",
   "metadata": {},
   "outputs": [],
   "source": [
    "for child in node.children:\n",
    "    child.backpropagate()"
   ]
  },
  {
   "cell_type": "code",
   "execution_count": null,
   "id": "e538891f",
   "metadata": {},
   "outputs": [],
   "source": [
    "root_node   # perspective of X player"
   ]
  },
  {
   "cell_type": "code",
   "execution_count": null,
   "id": "3c1eee70",
   "metadata": {},
   "outputs": [],
   "source": [
    "root_node.children   # perspective of O player"
   ]
  },
  {
   "cell_type": "code",
   "execution_count": null,
   "id": "e3e68261",
   "metadata": {},
   "outputs": [],
   "source": [
    "root_node.children[1].children"
   ]
  },
  {
   "cell_type": "markdown",
   "id": "0680e24e-f698-4097-8eb0-8173d4992649",
   "metadata": {},
   "source": [
    "# Example"
   ]
  },
  {
   "cell_type": "code",
   "execution_count": null,
   "id": "de9c52f4-7a43-4995-9cc4-4836ca97df48",
   "metadata": {},
   "outputs": [],
   "source": [
    "from IPython.display import clear_output"
   ]
  },
  {
   "cell_type": "code",
   "execution_count": null,
   "id": "487ca20b-d48e-450e-b1c5-3cef667ac2f9",
   "metadata": {},
   "outputs": [],
   "source": [
    "class RandomAgent:\n",
    "    def __init__(self, piece):\n",
    "        self.piece = piece\n",
    "    \n",
    "    def choose_action(self, game):\n",
    "        action = random.choice(game.get_valid_moves())\n",
    "        return action\n",
    "\n",
    "class MCTSAgent:\n",
    "    def __init__(self, piece, num_simulations=1000):\n",
    "        self.piece = piece\n",
    "        self.num_simulations = num_simulations\n",
    "    \n",
    "    def choose_action(self, game):\n",
    "        \"\"\"\n",
    "        Runs MCTS\n",
    "        \"\"\"\n",
    "        root = Node(game, self.piece)\n",
    "        for _ in range(self.num_simulations):\n",
    "            node = root.select()\n",
    "            node.expand()\n",
    "            # TODO maybe change back to children\n",
    "            node.backpropagate()\n",
    "\n",
    "        best = max(root.children, key=lambda x: x.visit_count)\n",
    "#         best = random.choices(root.children, weights=[x.visit_count for x in root.children])[0]\n",
    "        return best.action\n",
    "\n",
    "    \n",
    "class HumanAgent:\n",
    "    def __init__(self, piece):\n",
    "        self.piece = piece\n",
    "    \n",
    "    def choose_action(self, game):\n",
    "        return int(input(f\"Choose from {game.get_valid_moves()}:\"))"
   ]
  },
  {
   "cell_type": "code",
   "execution_count": null,
   "id": "2dac4fb2-292e-4f54-bd01-ad4dc86a2db3",
   "metadata": {},
   "outputs": [],
   "source": [
    "game = Game(7, 6, 4)\n",
    "player1 = HumanAgent(\"X\")\n",
    "player2 = MCTSAgent(\"O\", num_simulations=1000)\n",
    "turns = itertools.cycle([player1, player2])"
   ]
  },
  {
   "cell_type": "code",
   "execution_count": null,
   "id": "3f1ffcf1-eac6-4062-bbf5-b14b0c4b427c",
   "metadata": {},
   "outputs": [],
   "source": [
    "print(game)\n",
    "while True:\n",
    "    player = next(turns)\n",
    "    action = player.choose_action(game)\n",
    "    game.place(player.piece, action)\n",
    "    clear_output(wait=True)\n",
    "    print(game)\n",
    "    print(f\"Played: {action}, by {player.__class__.__name__}\")\n",
    "    if game.is_win():\n",
    "        print(f\"Player {player.__class__.__name__} won!\")\n",
    "        break"
   ]
  },
  {
   "cell_type": "code",
   "execution_count": null,
   "id": "62d9f5d4-3297-4a24-8004-b474393e5181",
   "metadata": {},
   "outputs": [],
   "source": [
    "game"
   ]
  },
  {
   "cell_type": "code",
   "execution_count": null,
   "id": "d63748c7-45db-4358-b86f-c7349dd45280",
   "metadata": {},
   "outputs": [],
   "source": []
  }
 ],
 "metadata": {
  "kernelspec": {
   "display_name": "Python 3 (connectx)",
   "language": "python",
   "name": "connectx"
  },
  "language_info": {
   "codemirror_mode": {
    "name": "ipython",
    "version": 3
   },
   "file_extension": ".py",
   "mimetype": "text/x-python",
   "name": "python",
   "nbconvert_exporter": "python",
   "pygments_lexer": "ipython3",
   "version": "3.8.11"
  }
 },
 "nbformat": 4,
 "nbformat_minor": 5
}
