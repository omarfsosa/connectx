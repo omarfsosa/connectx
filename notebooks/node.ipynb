{
 "cells": [
  {
   "cell_type": "code",
   "execution_count": 36,
   "id": "ce9d7e5b-9335-4dcd-ad2c-b5e743050b5d",
   "metadata": {},
   "outputs": [],
   "source": [
    "from typing import Any, List"
   ]
  },
  {
   "cell_type": "code",
   "execution_count": 42,
   "id": "1563b604-a32c-45ff-8ae2-83ac57236f00",
   "metadata": {},
   "outputs": [],
   "source": [
    "# TODO: Check that parent is none before updating?\n",
    "# TODO: Prevent the child from being added if its already in\n",
    "class AttachedNodeError(Exception):\n",
    "    pass\n",
    "\n",
    "\n",
    "def _check_empty_parent(*nodes):\n",
    "    for node in nodes:\n",
    "        if node.parent is not None:\n",
    "            raise AttachedNodeError\n",
    "\n",
    "\n",
    "class Node:\n",
    "    def __init__(\n",
    "        self,\n",
    "        value: Any,\n",
    "        children: List[Node] | None = None\n",
    "    ):\n",
    "        self.value = value\n",
    "        self._parent = None\n",
    "        self._children = []\n",
    "        \n",
    "        # uses children.setter\n",
    "        if children is not None:\n",
    "            self.children = children\n",
    "        \n",
    "\n",
    "    @property\n",
    "    def children(self):\n",
    "        return self._children\n",
    "    \n",
    "    @property\n",
    "    def parent(self):\n",
    "        return self._parent\n",
    "    \n",
    "    @children.setter\n",
    "    def children(self, nodes):\n",
    "        _check_empty_parent(*nodes)\n",
    "        for node in nodes:\n",
    "            node._parent = self\n",
    "  \n",
    "        self._children = nodes\n",
    "    \n",
    "    def attach_child(self, node):\n",
    "        _check_empty_parent(node)\n",
    "        node._parent = self\n",
    "        self._children.append(node)\n",
    "\n",
    "    # -- helpers\n",
    "    @property\n",
    "    def depth(self):\n",
    "        if self.parent is None:\n",
    "            return 0\n",
    "        \n",
    "        return self.parent.depth + 1\n",
    "    \n",
    "    \n",
    "    def __repr__(self):\n",
    "        name = self.__class__.__name__\n",
    "        return f\"{name}({self.value!r})\""
   ]
  },
  {
   "cell_type": "code",
   "execution_count": 43,
   "id": "881c344e-fcd2-4e10-aaae-402803147941",
   "metadata": {},
   "outputs": [],
   "source": [
    "def test_init_tree_v1():\n",
    "    root = Node(\"root\")\n",
    "    a = Node(\"a\")\n",
    "    b = Node(\"b\")\n",
    "    root.children = [a, b]\n",
    "    assert root.children.index(a) != -1\n",
    "    assert root.children.index(b) != -1\n",
    "    assert a.parent == root\n",
    "    assert b.parent == root\n",
    "    \n",
    "test_init_tree_v1()"
   ]
  },
  {
   "cell_type": "code",
   "execution_count": 44,
   "id": "2f50b401-baa1-4e9e-99e9-6afb955e98b3",
   "metadata": {},
   "outputs": [],
   "source": [
    "def test_init_tree_v2():\n",
    "    a = Node(\"a\")\n",
    "    b = Node(\"b\")\n",
    "    root = Node(\"root\", children=[a, b])\n",
    "    assert root.children.index(a) != -1\n",
    "    assert root.children.index(b) != -1\n",
    "    assert a.parent == root\n",
    "    assert b.parent == root\n",
    "\n",
    "test_init_tree_v2()"
   ]
  },
  {
   "cell_type": "code",
   "execution_count": 45,
   "id": "01881bca-e8e5-4c53-b189-7b0f360c7240",
   "metadata": {},
   "outputs": [],
   "source": [
    "def test_init_tree_v3():\n",
    "    a = Node(\"a\")\n",
    "    root = Node(\"root\", children=[a,])\n",
    "    b = Node(\"b\")\n",
    "    root.attach_child(b)\n",
    "    assert root.children.index(a) != -1\n",
    "    assert root.children.index(b) != -1\n",
    "    assert a.parent == root\n",
    "    assert b.parent == root\n",
    "\n",
    "test_init_tree_v3()"
   ]
  },
  {
   "cell_type": "code",
   "execution_count": 50,
   "id": "022ca8ce-a23a-4067-bca5-dcb7205f46c6",
   "metadata": {},
   "outputs": [],
   "source": [
    "def test_init_tree_v4():\n",
    "    root = Node(\"root\")\n",
    "    a = Node(\"a\")\n",
    "    # must raise AttributeError:\n",
    "    a.parent = root\n",
    "\n",
    "# test_init_tree_v4()"
   ]
  },
  {
   "cell_type": "code",
   "execution_count": 51,
   "id": "b8b2afef-d30e-4f28-ba06-01361f8fb242",
   "metadata": {},
   "outputs": [],
   "source": [
    "def test_init_tree_v5():\n",
    "    b = Node(\"b\")\n",
    "    a = Node(\"a\", children=[b])\n",
    "    root = Node(\"root\", children=[a])\n",
    "    assert b.parent == a\n",
    "    assert a.parent == root\n",
    "    \n",
    "test_init_tree_v5()"
   ]
  },
  {
   "cell_type": "code",
   "execution_count": null,
   "id": "be38f288-c6a6-414d-9e96-91b4a6eadd70",
   "metadata": {},
   "outputs": [],
   "source": []
  }
 ],
 "metadata": {
  "kernelspec": {
   "display_name": "Connectx (3.10.0)",
   "language": "python",
   "name": "connectx"
  },
  "language_info": {
   "codemirror_mode": {
    "name": "ipython",
    "version": 3
   },
   "file_extension": ".py",
   "mimetype": "text/x-python",
   "name": "python",
   "nbconvert_exporter": "python",
   "pygments_lexer": "ipython3",
   "version": "3.10.0"
  }
 },
 "nbformat": 4,
 "nbformat_minor": 5
}
