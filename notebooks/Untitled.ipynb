{
 "cells": [
  {
   "cell_type": "code",
   "execution_count": 1,
   "id": "4a912c15-446d-4a9b-b66f-f7e8e8aaf20f",
   "metadata": {},
   "outputs": [
    {
     "data": {
      "text/plain": [
       "'/Users/omarfsosa/.pyenv/versions/3.10.0/envs/connectx/bin/python'"
      ]
     },
     "execution_count": 1,
     "metadata": {},
     "output_type": "execute_result"
    }
   ],
   "source": [
    "import sys\n",
    "sys.executable"
   ]
  },
  {
   "cell_type": "code",
   "execution_count": 4,
   "id": "e8685f0b-6d4f-4245-8a60-e275ccc01570",
   "metadata": {},
   "outputs": [],
   "source": [
    "from connectx.board import Board\n",
    "from connectx.game import Game\n",
    "from connectx.player import RandomPlayer\n",
    "from connectx.evaluator import Evaluator"
   ]
  },
  {
   "cell_type": "code",
   "execution_count": 6,
   "id": "0bc974d2-cd6b-4fa1-916e-6828162f630d",
   "metadata": {},
   "outputs": [],
   "source": [
    "bd = Board(6, 7)\n",
    "p1 = RandomPlayer(1, \"X\")\n",
    "p2 = RandomPlayer(2, \"O\")\n",
    "ev = Evaluator(4)\n",
    "game = Game(bd, [p1, p2], ev)\n",
    "# state, winner = game.run()\n",
    "# print(state, winner)\n",
    "# if winner is not None:\n",
    "#     print(winner.piece)"
   ]
  },
  {
   "cell_type": "code",
   "execution_count": null,
   "id": "0fd348e9-a8cb-42a9-9172-b76718cf1c21",
   "metadata": {},
   "outputs": [],
   "source": []
  }
 ],
 "metadata": {
  "kernelspec": {
   "display_name": "Connectx (3.10.0)",
   "language": "python",
   "name": "connectx"
  },
  "language_info": {
   "codemirror_mode": {
    "name": "ipython",
    "version": 3
   },
   "file_extension": ".py",
   "mimetype": "text/x-python",
   "name": "python",
   "nbconvert_exporter": "python",
   "pygments_lexer": "ipython3",
   "version": "3.10.0"
  }
 },
 "nbformat": 4,
 "nbformat_minor": 5
}
